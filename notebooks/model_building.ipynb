{
 "cells": [
  {
   "cell_type": "code",
   "execution_count": 13,
   "metadata": {},
   "outputs": [],
   "source": [
    "import pandas as pd\n",
    "import statsmodels.api as sm\n",
    "from sklearn.preprocessing import OneHotEncoder"
   ]
  },
  {
   "cell_type": "code",
   "execution_count": null,
   "metadata": {},
   "outputs": [],
   "source": []
  },
  {
   "cell_type": "code",
   "execution_count": 14,
   "metadata": {},
   "outputs": [],
   "source": [
    "model_data = pd.read_pickle(\"data_for_model.pkl\")\n",
    "# model_data"
   ]
  },
  {
   "cell_type": "markdown",
   "metadata": {},
   "source": [
    "Build a regression model."
   ]
  },
  {
   "cell_type": "code",
   "execution_count": 21,
   "metadata": {},
   "outputs": [],
   "source": [
    "import pandas as pd\n",
    "import statsmodels.api as sm\n",
    "from sklearn.preprocessing import OneHotEncoder\n",
    "\n",
    "# Load your data (already done)\n",
    "# model_data = pd.read_pickle(\"data_for_model.pkl\")\n",
    "\n",
    "# Reduce the number of unique POI categories\n",
    "top_n = 10\n",
    "category_counts = model_data['poi_category'].value_counts()\n",
    "top_categories = category_counts.index[:top_n]\n",
    "model_data['poi_category_reduced'] = model_data['poi_category'].apply(\n",
    "    lambda x: x if x in top_categories else 'Other'\n",
    ")\n",
    "\n",
    "# One-hot encode the reduced poi_category column\n",
    "encoder = OneHotEncoder(sparse_output=False, drop='first')\n",
    "encoded = encoder.fit_transform(model_data[['poi_category_reduced']])\n",
    "encoded_df = pd.DataFrame(\n",
    "    encoded, \n",
    "    columns=encoder.get_feature_names_out(['poi_category_reduced']),\n",
    "    index=model_data.index\n",
    ")\n",
    "\n",
    "\n",
    "# Prepare model dataset\n",
    "df_model = model_data[['free_bikes', 'poi_distance', 'empty_slots', 'num_pois']].dropna()\n",
    "df_model = pd.concat([df_model, encoded_df], axis=1)\n",
    "\n",
    "# Define X and y\n",
    "X = df_model.drop(columns=['free_bikes'])\n",
    "y = df_model['free_bikes']\n",
    "X = sm.add_constant(X)\n",
    "\n",
    "# Fit model\n",
    "model = sm.OLS(y, X).fit()"
   ]
  },
  {
   "cell_type": "code",
   "execution_count": null,
   "metadata": {},
   "outputs": [],
   "source": []
  },
  {
   "cell_type": "markdown",
   "metadata": {},
   "source": [
    "Provide model output and an interpretation of the results. "
   ]
  },
  {
   "cell_type": "code",
   "execution_count": 23,
   "metadata": {},
   "outputs": [
    {
     "name": "stdout",
     "output_type": "stream",
     "text": [
      "                            OLS Regression Results                            \n",
      "==============================================================================\n",
      "Dep. Variable:             free_bikes   R-squared:                       0.282\n",
      "Model:                            OLS   Adj. R-squared:                  0.282\n",
      "Method:                 Least Squares   F-statistic:                     1205.\n",
      "Date:                Mon, 28 Jul 2025   Prob (F-statistic):               0.00\n",
      "Time:                        16:42:20   Log-Likelihood:            -1.3392e+05\n",
      "No. Observations:               39808   AIC:                         2.679e+05\n",
      "Df Residuals:                   39794   BIC:                         2.680e+05\n",
      "Df Model:                          13                                         \n",
      "Covariance Type:            nonrobust                                         \n",
      "===========================================================================================================\n",
      "                                              coef    std err          t      P>|t|      [0.025      0.975]\n",
      "-----------------------------------------------------------------------------------------------------------\n",
      "const                                      20.4724      1.369     14.952      0.000      17.789      23.156\n",
      "poi_distance                               -0.0009      0.000     -6.583      0.000      -0.001      -0.001\n",
      "empty_slots                                -0.4628      0.004   -122.126      0.000      -0.470      -0.455\n",
      "num_pois                                   -0.0114      0.027     -0.421      0.673      -0.065       0.042\n",
      "poi_category_reduced_Burger Joint          -3.5933      0.275    -13.056      0.000      -4.133      -3.054\n",
      "poi_category_reduced_Cocktail Bar          -1.9393      0.286     -6.789      0.000      -2.499      -1.379\n",
      "poi_category_reduced_French Restaurant     -4.0106      0.309    -12.980      0.000      -4.616      -3.405\n",
      "poi_category_reduced_Indian Restaurant     -1.8593      0.294     -6.322      0.000      -2.436      -1.283\n",
      "poi_category_reduced_Italian Restaurant    -2.5694      0.247    -10.403      0.000      -3.054      -2.085\n",
      "poi_category_reduced_Other                 -1.9254      0.202     -9.546      0.000      -2.321      -1.530\n",
      "poi_category_reduced_Pizzeria              -0.9418      0.282     -3.338      0.001      -1.495      -0.389\n",
      "poi_category_reduced_Pub                   -1.6719      0.210     -7.976      0.000      -2.083      -1.261\n",
      "poi_category_reduced_Restaurant            -0.9507      0.259     -3.672      0.000      -1.458      -0.443\n",
      "poi_category_reduced_Sandwich Spot         -3.3442      0.280    -11.947      0.000      -3.893      -2.796\n",
      "==============================================================================\n",
      "Omnibus:                     4417.914   Durbin-Watson:                   0.060\n",
      "Prob(Omnibus):                  0.000   Jarque-Bera (JB):             6143.557\n",
      "Skew:                           0.884   Prob(JB):                         0.00\n",
      "Kurtosis:                       3.760   Cond. No.                     2.64e+04\n",
      "==============================================================================\n",
      "\n",
      "Notes:\n",
      "[1] Standard Errors assume that the covariance matrix of the errors is correctly specified.\n",
      "[2] The condition number is large, 2.64e+04. This might indicate that there are\n",
      "strong multicollinearity or other numerical problems.\n"
     ]
    }
   ],
   "source": [
    "print(model.summary())"
   ]
  },
  {
   "cell_type": "markdown",
   "metadata": {},
   "source": [
    "1. R-Squared: The model explains 28.2% of the variance in free_bikes. This is a modest but not unusual result for behavioral or observational data in public infrastructure.\n",
    "2. P-values (P>|t|): If p-value < 0.05, the variable is statistically significant (it has a real impact).\n",
    "   * poi_distance: Coef = -0.0009, p < 0.001 (statistically significant) - For every additional meter between the station and its POIs, the number of free bikes decreases slightly. Possibly because more centrally located stations (closer to POIs) are more frequently emptied by users.\n",
    "   * empty_slots: Coef = -0.4628, p < 0.001 (statistically significant), More empty slots are strongly associated with fewer free bikes, which makes sense operationally.\n",
    "   * num_pois - Not statistically significant (p = 0.673): Despite being intuitive, the raw count of POIs does not seem to explain variation in free bikes once other factors are included.\n",
    "   * Categorical Variables:\n",
    "     * Most categories (e.g., Pub, Restaurant, Pizzeria, etc.) have negative coefficients, suggesting that their presence is associated with fewer free bikes.\n",
    "     * French Restaurant has one of the largest negative effects (-4.01 bikes) — possibly because stations near them are popular or in high-demand areas.\n",
    "     * All the POI categories are statistically significant (p < 0.001), meaning the differences are unlikely to be due to chance.\n",
    "     "
   ]
  },
  {
   "cell_type": "code",
   "execution_count": null,
   "metadata": {},
   "outputs": [],
   "source": []
  },
  {
   "cell_type": "code",
   "execution_count": null,
   "metadata": {},
   "outputs": [],
   "source": []
  },
  {
   "cell_type": "code",
   "execution_count": null,
   "metadata": {},
   "outputs": [],
   "source": []
  },
  {
   "cell_type": "code",
   "execution_count": null,
   "metadata": {},
   "outputs": [],
   "source": []
  },
  {
   "cell_type": "code",
   "execution_count": null,
   "metadata": {},
   "outputs": [],
   "source": []
  },
  {
   "cell_type": "code",
   "execution_count": null,
   "metadata": {},
   "outputs": [],
   "source": []
  },
  {
   "cell_type": "code",
   "execution_count": null,
   "metadata": {},
   "outputs": [],
   "source": []
  },
  {
   "cell_type": "code",
   "execution_count": null,
   "metadata": {},
   "outputs": [],
   "source": []
  },
  {
   "cell_type": "code",
   "execution_count": null,
   "metadata": {},
   "outputs": [],
   "source": []
  }
 ],
 "metadata": {
  "kernelspec": {
   "display_name": "Python 3 (ipykernel)",
   "language": "python",
   "name": "python3"
  },
  "language_info": {
   "codemirror_mode": {
    "name": "ipython",
    "version": 3
   },
   "file_extension": ".py",
   "mimetype": "text/x-python",
   "name": "python",
   "nbconvert_exporter": "python",
   "pygments_lexer": "ipython3",
   "version": "3.12.10"
  }
 },
 "nbformat": 4,
 "nbformat_minor": 4
}
